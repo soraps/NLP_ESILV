{
 "cells": [
  {
   "cell_type": "code",
   "execution_count": 1,
   "metadata": {},
   "outputs": [],
   "source": [
    "import nltk"
   ]
  },
  {
   "cell_type": "code",
   "execution_count": 2,
   "metadata": {},
   "outputs": [
    {
     "name": "stderr",
     "output_type": "stream",
     "text": [
      "[nltk_data] Downloading package punkt to\n",
      "[nltk_data]     C:\\Users\\sraps\\AppData\\Roaming\\nltk_data...\n",
      "[nltk_data]   Package punkt is already up-to-date!\n"
     ]
    },
    {
     "data": {
      "text/plain": [
       "True"
      ]
     },
     "execution_count": 2,
     "metadata": {},
     "output_type": "execute_result"
    }
   ],
   "source": [
    "nltk.download(\"punkt\")"
   ]
  },
  {
   "cell_type": "code",
   "execution_count": 3,
   "metadata": {},
   "outputs": [],
   "source": [
    "tokenizer=nltk.data.load('tokenizers/punkt/english.pickle')\n"
   ]
  },
  {
   "cell_type": "code",
   "execution_count": 4,
   "metadata": {},
   "outputs": [],
   "source": [
    "text=\" Hello everyone. Hope all are fine and doing well. Hope you find the book interesting\"\n"
   ]
  },
  {
   "cell_type": "code",
   "execution_count": 5,
   "metadata": {},
   "outputs": [
    {
     "data": {
      "text/plain": [
       "[' Hello everyone.',\n",
       " 'Hope all are fine and doing well.',\n",
       " 'Hope you find the book interesting']"
      ]
     },
     "execution_count": 5,
     "metadata": {},
     "output_type": "execute_result"
    }
   ],
   "source": [
    "tokenizer.tokenize(text)"
   ]
  },
  {
   "cell_type": "code",
   "execution_count": 6,
   "metadata": {},
   "outputs": [
    {
     "data": {
      "text/plain": [
       "['Deux agressions en quelques jours, voilà ce qui a motivé hier matin  le débrayage collège franco-britanniquedeLevallois-Perret.',\n",
       " 'Deux agressions en quelques jours,  voilà ce qui a motivé hier matin le débrayage Levallois.',\n",
       " \"L'équipe pédagogique de ce collège de 750  élèves avait déjà été choquée par l'agression, janvier , d'un professeur d'histoire.\",\n",
       " \"L'équipe  pédagogique de ce collège de 750 élèves avait déjà été choquée par l'agression, mercredi , d'un  professeur d'histoire\"]"
      ]
     },
     "execution_count": 6,
     "metadata": {},
     "output_type": "execute_result"
    }
   ],
   "source": [
    "french_tokenizer=nltk.data.load('tokenizers/punkt/french.pickle')\n",
    "french_tokenizer.tokenize(\"Deux agressions en quelques jours, voilà ce qui a motivé hier matin  le débrayage collège franco-britanniquedeLevallois-Perret. Deux agressions en quelques jours,  voilà ce qui a motivé hier matin le débrayage Levallois. L'équipe pédagogique de ce collège de 750  élèves avait déjà été choquée par l'agression, janvier , d'un professeur d'histoire. L'équipe  pédagogique de ce collège de 750 élèves avait déjà été choquée par l'agression, mercredi , d'un  professeur d'histoire\")"
   ]
  },
  {
   "cell_type": "code",
   "execution_count": 7,
   "metadata": {},
   "outputs": [],
   "source": [
    "from nltk.tokenize import TreebankWordTokenizer"
   ]
  },
  {
   "cell_type": "markdown",
   "metadata": {},
   "source": []
  },
  {
   "cell_type": "code",
   "execution_count": 8,
   "metadata": {},
   "outputs": [],
   "source": [
    "tokenizer = TreebankWordTokenizer()\n"
   ]
  },
  {
   "cell_type": "code",
   "execution_count": 9,
   "metadata": {},
   "outputs": [
    {
     "data": {
      "text/plain": [
       "['Have',\n",
       " 'a',\n",
       " 'nice',\n",
       " 'day.',\n",
       " 'I',\n",
       " 'hope',\n",
       " 'you',\n",
       " 'find',\n",
       " 'the',\n",
       " 'book',\n",
       " 'interesting']"
      ]
     },
     "execution_count": 9,
     "metadata": {},
     "output_type": "execute_result"
    }
   ],
   "source": [
    "tokenizer.tokenize(\"Have a nice day. I hope you find the book interesting\")\n",
    "['Have', 'a', 'nice', 'day.', 'I', 'hope', 'you', 'find', 'the', 'book', 'interesting']"
   ]
  },
  {
   "cell_type": "code",
   "execution_count": 23,
   "metadata": {},
   "outputs": [],
   "source": [
    "text=nltk.word_tokenize(\" Don't hesitate to ask questions\")"
   ]
  },
  {
   "cell_type": "code",
   "execution_count": 11,
   "metadata": {},
   "outputs": [
    {
     "name": "stdout",
     "output_type": "stream",
     "text": [
      "['Do', \"n't\", 'hesitate', 'to', 'ask', 'questions']\n"
     ]
    }
   ],
   "source": [
    "print(text)"
   ]
  },
  {
   "cell_type": "code",
   "execution_count": 12,
   "metadata": {},
   "outputs": [],
   "source": [
    "from nltk.tokenize import WordPunctTokenizer\n",
    "tokenizer=WordPunctTokenizer()"
   ]
  },
  {
   "cell_type": "code",
   "execution_count": 13,
   "metadata": {},
   "outputs": [
    {
     "data": {
      "text/plain": [
       "['Don', \"'\", 't', 'hesitate', 'to', 'ask', 'questions']"
      ]
     },
     "execution_count": 13,
     "metadata": {},
     "output_type": "execute_result"
    }
   ],
   "source": [
    "\n",
    "tokenizer.tokenize(\" Don't hesitate to ask questions\")"
   ]
  },
  {
   "cell_type": "code",
   "execution_count": 14,
   "metadata": {},
   "outputs": [
    {
     "data": {
      "text/plain": [
       "['Don', 't', 'hesitate', 'to', 'ask', 'questions']"
      ]
     },
     "execution_count": 14,
     "metadata": {},
     "output_type": "execute_result"
    }
   ],
   "source": [
    "from nltk.tokenize import RegexpTokenizer\n",
    "tokenizer=RegexpTokenizer(\"[\\w]+\")\n",
    "tokenizer.tokenize(\"Don't hesitate to ask questions\")"
   ]
  },
  {
   "cell_type": "code",
   "execution_count": 16,
   "metadata": {},
   "outputs": [
    {
     "name": "stdout",
     "output_type": "stream",
     "text": [
      "['Don', \"'t\", 'hesitate', 'to', 'ask', 'questions']\n"
     ]
    }
   ],
   "source": [
    "from nltk.tokenize import regexp_tokenize\n",
    "sent=\"Don't hesitate to ask questions\"\n",
    "print(regexp_tokenize(sent, pattern='\\w+|\\$[\\d\\.]+|\\S+'))"
   ]
  },
  {
   "cell_type": "code",
   "execution_count": 22,
   "metadata": {},
   "outputs": [
    {
     "name": "stdout",
     "output_type": "stream",
     "text": [
      "hardwork is key to success\n",
      "HARDWORK IS KEY TO SUCCESS\n"
     ]
    }
   ],
   "source": [
    "text='HARdWork IS KEy to SUCCESS'\n",
    "print(text.lower())\n",
    "print(text.upper())"
   ]
  },
  {
   "cell_type": "code",
   "execution_count": 29,
   "metadata": {},
   "outputs": [
    {
     "name": "stderr",
     "output_type": "stream",
     "text": [
      "[nltk_data] Downloading package stopwords to\n",
      "[nltk_data]     C:\\Users\\sraps\\AppData\\Roaming\\nltk_data...\n",
      "[nltk_data]   Unzipping corpora\\stopwords.zip.\n"
     ]
    },
    {
     "data": {
      "text/plain": [
       "True"
      ]
     },
     "execution_count": 29,
     "metadata": {},
     "output_type": "execute_result"
    }
   ],
   "source": [
    "from nltk.corpus import stopwords\n",
    "nltk.download(\"stopwords\")"
   ]
  },
  {
   "cell_type": "code",
   "execution_count": 30,
   "metadata": {},
   "outputs": [
    {
     "data": {
      "text/plain": [
       "[\"Don't\", 'hesitate', 'ask', 'questions']"
      ]
     },
     "execution_count": 30,
     "metadata": {},
     "output_type": "execute_result"
    }
   ],
   "source": [
    "stops=set(stopwords.words('english'))\n",
    "words=[\"Don't\", 'hesitate','to','ask','questions']\n",
    "[word for word in words if word not in stops]"
   ]
  },
  {
   "cell_type": "code",
   "execution_count": 31,
   "metadata": {},
   "outputs": [
    {
     "data": {
      "text/plain": [
       "['arabic',\n",
       " 'azerbaijani',\n",
       " 'basque',\n",
       " 'bengali',\n",
       " 'catalan',\n",
       " 'chinese',\n",
       " 'danish',\n",
       " 'dutch',\n",
       " 'english',\n",
       " 'finnish',\n",
       " 'french',\n",
       " 'german',\n",
       " 'greek',\n",
       " 'hebrew',\n",
       " 'hinglish',\n",
       " 'hungarian',\n",
       " 'indonesian',\n",
       " 'italian',\n",
       " 'kazakh',\n",
       " 'nepali',\n",
       " 'norwegian',\n",
       " 'portuguese',\n",
       " 'romanian',\n",
       " 'russian',\n",
       " 'slovene',\n",
       " 'spanish',\n",
       " 'swedish',\n",
       " 'tajik',\n",
       " 'turkish']"
      ]
     },
     "execution_count": 31,
     "metadata": {},
     "output_type": "execute_result"
    }
   ],
   "source": [
    " stopwords.fileids()\n"
   ]
  },
  {
   "cell_type": "code",
   "execution_count": 37,
   "metadata": {},
   "outputs": [
    {
     "name": "stdout",
     "output_type": "stream",
     "text": [
      "Collecting replacerNote: you may need to restart the kernel to use updated packages.\n",
      "  Downloading replacer-1.1.1-py3-none-any.whl (4.9 kB)\n",
      "Installing collected packages: replacer\n",
      "Successfully installed replacer-1.1.1\n",
      "\n"
     ]
    }
   ],
   "source": [
    "#pip install replacer"
   ]
  },
  {
   "cell_type": "code",
   "execution_count": 60,
   "metadata": {},
   "outputs": [],
   "source": [
    "import re\n",
    "\n",
    "replacement_patterns = [\n",
    "\n",
    "    (r'won\\'t', 'will not'),\n",
    "\n",
    "    (r'can\\'t', 'cannot'),\n",
    "\n",
    "    (r'i\\'m', 'i am'),\n",
    "\n",
    "    (r'ain\\'t', 'is not'),\n",
    "\n",
    "    (r'(\\w+)\\'ll', '\\g<1> will'),\n",
    "\n",
    "    (r'(\\w+)n\\'t', '\\g<1> not'),\n",
    "\n",
    "    (r'(\\w+)\\'ve', '\\g<1> have'),\n",
    "\n",
    "    (r'(\\w+)\\'s', '\\g<1> is'),\n",
    "\n",
    "    (r'(\\w+)\\'re', '\\g<1> are'),\n",
    "\n",
    "    (r'(\\w+)\\'d', '\\g<1> would'),\n",
    "\n",
    "]\n",
    "\n",
    " \n",
    "\n",
    "class RegexpReplacer(object):\n",
    "\n",
    "    #\"\"\" Replaces regular expression in a text.\n",
    "\n",
    "    #>>> replacer = RegexpReplacer()\n",
    "\n",
    "    #>>> replacer.replace(\"can't is a contraction\")\n",
    "\n",
    "    #'cannot is a contraction'\n",
    "\n",
    "    #>>> replacer.replace(\"I should've done that thing I didn't do\")\n",
    "\n",
    "    #'I should have done that thing I did not do'\n",
    "\n",
    "    #\"\"\"\n",
    "\n",
    "    def __init__(self, patterns=replacement_patterns):\n",
    "\n",
    "        self.patterns = [(re.compile(regex), repl) for (regex, repl) in patterns]\n",
    "\n",
    "   \n",
    "\n",
    "    def replace(self, text):\n",
    "\n",
    "        s = text\n",
    "\n",
    "       \n",
    "\n",
    "        for (pattern, repl) in self.patterns:\n",
    "\n",
    "            s = re.sub(pattern, repl, s)\n",
    "\n",
    "       \n",
    "\n",
    "        return s"
   ]
  },
  {
   "cell_type": "code",
   "execution_count": 61,
   "metadata": {},
   "outputs": [
    {
     "ename": "ImportError",
     "evalue": "cannot import name 'RegexpReplacer' from 'replacer' (c:\\Users\\sraps\\.conda\\lib\\site-packages\\replacer.py)",
     "output_type": "error",
     "traceback": [
      "\u001b[1;31m---------------------------------------------------------------------------\u001b[0m",
      "\u001b[1;31mImportError\u001b[0m                               Traceback (most recent call last)",
      "\u001b[1;32m<ipython-input-61-06e057802a38>\u001b[0m in \u001b[0;36m<module>\u001b[1;34m\u001b[0m\n\u001b[1;32m----> 1\u001b[1;33m \u001b[1;32mfrom\u001b[0m \u001b[0mreplacer\u001b[0m \u001b[1;32mimport\u001b[0m \u001b[0mRegexpReplacer\u001b[0m\u001b[1;33m\u001b[0m\u001b[1;33m\u001b[0m\u001b[0m\n\u001b[0m",
      "\u001b[1;31mImportError\u001b[0m: cannot import name 'RegexpReplacer' from 'replacer' (c:\\Users\\sraps\\.conda\\lib\\site-packages\\replacer.py)"
     ]
    }
   ],
   "source": [
    "from replacer import RegexpReplacer"
   ]
  },
  {
   "cell_type": "code",
   "execution_count": 62,
   "metadata": {},
   "outputs": [
    {
     "data": {
      "text/plain": [
       "'Do not hesitate to ask questions'"
      ]
     },
     "execution_count": 62,
     "metadata": {},
     "output_type": "execute_result"
    }
   ],
   "source": [
    "replacer= RegexpReplacer()\n",
    "replacer.replace(\"Don't hesitate to ask questions\")"
   ]
  },
  {
   "cell_type": "code",
   "execution_count": 63,
   "metadata": {},
   "outputs": [
    {
     "data": {
      "text/plain": [
       "'She must have gone to the market but she did not go'"
      ]
     },
     "execution_count": 63,
     "metadata": {},
     "output_type": "execute_result"
    }
   ],
   "source": [
    " replacer.replace(\"She must've gone to the market but she didn't go\")"
   ]
  },
  {
   "cell_type": "code",
   "execution_count": 66,
   "metadata": {},
   "outputs": [
    {
     "data": {
      "text/plain": [
       "['Do', \"n't\", 'hesitate', 'to', 'ask', 'questions']"
      ]
     },
     "execution_count": 66,
     "metadata": {},
     "output_type": "execute_result"
    }
   ],
   "source": [
    " from nltk.tokenize import word_tokenize\n",
    " word_tokenize(\"Don't hesitate to ask questions\")\n"
   ]
  },
  {
   "cell_type": "code",
   "execution_count": 67,
   "metadata": {},
   "outputs": [
    {
     "data": {
      "text/plain": [
       "['Do', 'not', 'hesitate', 'to', 'ask', 'questions']"
      ]
     },
     "execution_count": 67,
     "metadata": {},
     "output_type": "execute_result"
    }
   ],
   "source": [
    "word_tokenize(replacer.replace(\"Don't hesitate to ask questions\"))"
   ]
  },
  {
   "cell_type": "markdown",
   "metadata": {},
   "source": [
    "Lemmatization"
   ]
  },
  {
   "cell_type": "code",
   "execution_count": 50,
   "metadata": {},
   "outputs": [
    {
     "name": "stderr",
     "output_type": "stream",
     "text": [
      "[nltk_data] Downloading package wordnet to\n",
      "[nltk_data]     C:\\Users\\sraps\\AppData\\Roaming\\nltk_data...\n"
     ]
    },
    {
     "data": {
      "text/plain": [
       "True"
      ]
     },
     "execution_count": 50,
     "metadata": {},
     "output_type": "execute_result"
    }
   ],
   "source": [
    "from nltk.stem import WordNetLemmatizer\n",
    "nltk.download('wordnet')"
   ]
  },
  {
   "cell_type": "code",
   "execution_count": 51,
   "metadata": {},
   "outputs": [],
   "source": [
    "lemmatizer_output=WordNetLemmatizer()"
   ]
  },
  {
   "cell_type": "code",
   "execution_count": 52,
   "metadata": {},
   "outputs": [
    {
     "data": {
      "text/plain": [
       "'work'"
      ]
     },
     "execution_count": 52,
     "metadata": {},
     "output_type": "execute_result"
    }
   ],
   "source": [
    "lemmatizer_output.lemmatize('working')"
   ]
  },
  {
   "cell_type": "code",
   "execution_count": 53,
   "metadata": {},
   "outputs": [
    {
     "data": {
      "text/plain": [
       "'work'"
      ]
     },
     "execution_count": 53,
     "metadata": {},
     "output_type": "execute_result"
    }
   ],
   "source": [
    "\n",
    "lemmatizer_output.lemmatize('working',pos='v')"
   ]
  },
  {
   "cell_type": "code",
   "execution_count": 54,
   "metadata": {},
   "outputs": [
    {
     "data": {
      "text/plain": [
       "'work'"
      ]
     },
     "execution_count": 54,
     "metadata": {},
     "output_type": "execute_result"
    }
   ],
   "source": [
    "\n",
    "lemmatizer_output.lemmatize('works')\n"
   ]
  },
  {
   "cell_type": "code",
   "execution_count": 55,
   "metadata": {},
   "outputs": [
    {
     "data": {
      "text/plain": [
       "'happi'"
      ]
     },
     "execution_count": 55,
     "metadata": {},
     "output_type": "execute_result"
    }
   ],
   "source": [
    "from nltk.stem import PorterStemmer\n",
    "stemmer_output=PorterStemmer()\n",
    "stemmer_output.stem('happiness')"
   ]
  },
  {
   "cell_type": "code",
   "execution_count": 56,
   "metadata": {},
   "outputs": [
    {
     "data": {
      "text/plain": [
       "'happiness'"
      ]
     },
     "execution_count": 56,
     "metadata": {},
     "output_type": "execute_result"
    }
   ],
   "source": [
    "from nltk.stem import WordNetLemmatizer\n",
    "lemmatizer_output=WordNetLemmatizer()\n",
    "lemmatizer_output.lemmatize('happiness')"
   ]
  },
  {
   "cell_type": "markdown",
   "metadata": {},
   "source": [
    "Similarity measure"
   ]
  },
  {
   "cell_type": "code",
   "execution_count": 57,
   "metadata": {},
   "outputs": [
    {
     "data": {
      "text/plain": [
       "3"
      ]
     },
     "execution_count": 57,
     "metadata": {},
     "output_type": "execute_result"
    }
   ],
   "source": [
    "from nltk.metrics import *\n",
    "edit_distance(\"relate\",\"relation\")"
   ]
  },
  {
   "cell_type": "code",
   "execution_count": 58,
   "metadata": {},
   "outputs": [
    {
     "data": {
      "text/plain": [
       "7"
      ]
     },
     "execution_count": 58,
     "metadata": {},
     "output_type": "execute_result"
    }
   ],
   "source": [
    "edit_distance(\"suggestion\",\"calculation\")\n"
   ]
  },
  {
   "cell_type": "code",
   "execution_count": 59,
   "metadata": {},
   "outputs": [
    {
     "name": "stdout",
     "output_type": "stream",
     "text": [
      "0.6\n"
     ]
    }
   ],
   "source": [
    "from nltk.metrics import *\n",
    "X=set([10,20,30,40])\n",
    "Y=set([20,30,60])\n",
    "print(jaccard_distance(X,Y))"
   ]
  },
  {
   "cell_type": "markdown",
   "metadata": {},
   "source": [
    "ZIPF's law\n"
   ]
  },
  {
   "cell_type": "code",
   "execution_count": 73,
   "metadata": {},
   "outputs": [
    {
     "name": "stderr",
     "output_type": "stream",
     "text": [
      "[nltk_data] Downloading package stopwords to\n",
      "[nltk_data]     C:\\Users\\sraps\\AppData\\Roaming\\nltk_data...\n",
      "[nltk_data]   Package stopwords is already up-to-date!\n"
     ]
    },
    {
     "name": "stdout",
     "output_type": "stream",
     "text": [
      "Please paste three short texts, one at a time:\n",
      "Nearest sentences in Text 1:\n",
      "VISITE DE CHARLES III EN FRANCE: PIERRE HERMÉ PRÉSENTE LE GÂTEAU QU'IL SERVIRA AU DÎNER D'ÉTAT\n",
      "Nearest sentences in Text 2:\n",
      "Le roi Charles III et la reine Camilla ont commencé leur visite en France et sont attendus pour un dîner d’Etat à Versailles ce soir\n",
      "Nearest sentences in Text 3:\n",
      "HARCÈLEMENT SCOLAIRE: GABRIEL ATTAL SALUE UNE RÉPONSE \"RAPIDE\" APRÈS L'INTERPELLATION D'UN ÉLÈVE À ALFORTVILLE\n",
      "\n",
      "Zipf's Law for the first text:\n",
      "1. visite: 1 occurrences\n",
      "2. de: 1 occurrences\n",
      "3. charles: 1 occurrences\n",
      "4. iii: 1 occurrences\n",
      "5. en: 1 occurrences\n",
      "6. france: 1 occurrences\n",
      "7. pierre: 1 occurrences\n",
      "8. hermé: 1 occurrences\n",
      "9. présente: 1 occurrences\n",
      "10. le: 1 occurrences\n"
     ]
    }
   ],
   "source": []
  },
  {
   "cell_type": "code",
   "execution_count": 84,
   "metadata": {},
   "outputs": [
    {
     "name": "stdout",
     "output_type": "stream",
     "text": [
      "Cosine Similarity between Article 1 and Article 2: 0.38575837490522985\n",
      "Cosine Similarity between Article 1 and Article 3: 0.0\n",
      "Cosine Similarity between Article 2 and Article 3: 0.0\n",
      "\n",
      "The most similar pair of articles is: Article 1 and Article 3\n",
      "Zipf's Law analysis for Article 1:\n"
     ]
    },
    {
     "name": "stderr",
     "output_type": "stream",
     "text": [
      "[nltk_data] Downloading package stopwords to\n",
      "[nltk_data]     C:\\Users\\sraps\\AppData\\Roaming\\nltk_data...\n",
      "[nltk_data]   Package stopwords is already up-to-date!\n",
      "[nltk_data] Downloading package punkt to\n",
      "[nltk_data]     C:\\Users\\sraps\\AppData\\Roaming\\nltk_data...\n",
      "[nltk_data]   Package punkt is already up-to-date!\n"
     ]
    },
    {
     "data": {
      "image/png": "[encoded data removed]",
      "text/plain": [
       "<Figure size 720x432 with 1 Axes>"
      ]
     },
     "metadata": {
      "needs_background": "light"
     },
     "output_type": "display_data"
    },
    {
     "name": "stdout",
     "output_type": "stream",
     "text": [
      "\n",
      "Zipf's Law analysis for Article 2:\n"
     ]
    },
    {
     "data": {
      "image/png": "[encoded data removed]",
      "text/plain": [
       "<Figure size 720x432 with 1 Axes>"
      ]
     },
     "metadata": {
      "needs_background": "light"
     },
     "output_type": "display_data"
    },
    {
     "name": "stdout",
     "output_type": "stream",
     "text": [
      "\n",
      "Zipf's Law analysis for Article 3:\n"
     ]
    },
    {
     "data": {
      "image/png": "[encoded data removed]",
      "text/plain": [
       "<Figure size 720x432 with 1 Axes>"
      ]
     },
     "metadata": {
      "needs_background": "light"
     },
     "output_type": "display_data"
    }
   ],
   "source": [
    "\n",
    "import re\n",
    "import nltk\n",
    "import matplotlib.pyplot as plt\n",
    "from nltk.tokenize import word_tokenize\n",
    "from nltk.corpus import stopwords\n",
    "from collections import Counter\n",
    "\n",
    "# Make sure you have nltk stopwords downloaded for French\n",
    "nltk.download(\"stopwords\")\n",
    "nltk.download(\"punkt\")\n",
    "\n",
    "# Function to preprocess French text (remove punctuation, lowercase, and stop words)\n",
    "def preprocess_text_french(text):\n",
    "    text = text.lower()\n",
    "    text = re.sub(r'[^\\w\\sàâçéèêëîïôûùüÿœæÀÂÇÉÈÊËÎÏÔÛÙÜŸŒÆ]', '', text)\n",
    "    words = word_tokenize(text, language=\"french\")\n",
    "    stopwords_french = set(stopwords.words(\"french\"))\n",
    "    words = [word for word in words if word not in stopwords_french]\n",
    "    return words\n",
    "\n",
    "# Function to calculate Zipf's Law statistics for a given French text\n",
    "def zipf_law_french(text):\n",
    "    words = preprocess_text_french(text)\n",
    "    word_freq = nltk.FreqDist(words)\n",
    "\n",
    "    # Sort word frequencies by count in descending order\n",
    "    sorted_freq = sorted(word_freq.items(), key=lambda x: x[1], reverse=True)\n",
    "    return sorted_freq\n",
    "\n",
    "def plot_zipf_law(sorted_freq):\n",
    "    words, frequencies = zip(*sorted_freq)\n",
    "\n",
    "    plt.figure(figsize=(10, 6))\n",
    "    plt.bar(words, frequencies)\n",
    "    plt.title(\"Word Frequency Distribution\")\n",
    "    plt.xlabel(\"Words\")\n",
    "    plt.ylabel(\"Frequency\")\n",
    "    plt.xticks(rotation=90)\n",
    "    plt.grid(axis=\"y\")\n",
    "    plt.show()\n",
    "\n",
    "# Three example articles in French\n",
    "article1 = \"\"\"VISITE DE CHARLES III EN FRANCE: PIERRE HERMÉ PRÉSENTE LE GÂTEAU QU'IL SERVIRA AU DÎNER D'ÉTAT\"\"\"\n",
    "\n",
    "article2 = \"\"\"CLe roi Charles III et la reine Camilla ont commencé leur visite en France et sont attendus pour un dîner d’Etat à Versailles ce soir \"\"\"\n",
    "\n",
    "article3 = \"\"\" HARCÈLEMENT SCOLAIRE: GABRIEL ATTAL SALUE UNE RÉPONSE \"RAPIDE\" APRÈS L'INTERPELLATION D'UN ÉLÈVE À ALFORTVILLE \"\"\"\n",
    "# Analyze Zipf's Law for each article\n",
    "word_freq1 = dict(zipf_law_french(article1))\n",
    "word_freq2 = dict(zipf_law_french(article2))\n",
    "word_freq3 = dict(zipf_law_french(article3))\n",
    "\n",
    "# Combine all unique words from the three articles\n",
    "all_words = set(word_freq1.keys()) | set(word_freq2.keys()) | set(word_freq3.keys())\n",
    "\n",
    "# Create vectors of word frequencies for each article\n",
    "vector1 = [word_freq1.get(word, 0) for word in all_words]\n",
    "vector2 = [word_freq2.get(word, 0) for word in all_words]\n",
    "vector3 = [word_freq3.get(word, 0) for word in all_words]\n",
    "\n",
    "# Calculate cosine similarity between article 1 and article 2\n",
    "similarity_1_2 = cosine_similarity([vector1], [vector2])[0][0]\n",
    "\n",
    "# Calculate cosine similarity between article 1 and article 3\n",
    "similarity_1_3 = cosine_similarity([vector1], [vector3])[0][0]\n",
    "\n",
    "# Calculate cosine similarity between article 2 and article 3\n",
    "similarity_2_3 = cosine_similarity([vector2], [vector3])[0][0]\n",
    "\n",
    "print(\"Cosine Similarity between Article 1 and Article 2:\", similarity_1_2)\n",
    "print(\"Cosine Similarity between Article 1 and Article 3:\", similarity_1_3)\n",
    "print(\"Cosine Similarity between Article 2 and Article 3:\", similarity_2_3)\n",
    "\n",
    "# Find the most similar pair of articles\n",
    "most_similar_pair = min([(similarity_1_2, \"Article 1 and Article 2\"), (similarity_1_3, \"Article 1 and Article 3\"), (similarity_2_3, \"Article 2 and Article 3\")], key=lambda x: x[0])\n",
    "\n",
    "print(\"\\nThe most similar pair of articles is:\", most_similar_pair[1])\n",
    "\n",
    "# Analyze Zipf's Law for each article\n",
    "word_freq1 = zipf_law_french(article1)\n",
    "word_freq2 = zipf_law_french(article2)\n",
    "word_freq3 = zipf_law_french(article3)\n",
    "# Create Zipf's Law plots for each article\n",
    "print(\"Zipf's Law analysis for Article 1:\")\n",
    "plot_zipf_law(word_freq1)\n",
    "\n",
    "print(\"\\nZipf's Law analysis for Article 2:\")\n",
    "plot_zipf_law(word_freq2)\n",
    "\n",
    "print(\"\\nZipf's Law analysis for Article 3:\")\n",
    "plot_zipf_law(word_freq3)"
   ]
  },
  {
   "cell_type": "code",
   "execution_count": null,
   "metadata": {},
   "outputs": [],
   "source": []
  }
 ],
 "metadata": {
  "kernelspec": {
   "display_name": "Python 3",
   "language": "python",
   "name": "python3"
  },
  "language_info": {
   "codemirror_mode": {
    "name": "ipython",
    "version": 3
   },
   "file_extension": ".py",
   "mimetype": "text/x-python",
   "name": "python",
   "nbconvert_exporter": "python",
   "pygments_lexer": "ipython3",
   "version": "3.8.8"
  },
  "orig_nbformat": 4
 },
 "nbformat": 4,
 "nbformat_minor": 2
}
